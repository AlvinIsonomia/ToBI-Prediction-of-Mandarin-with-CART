{
 "cells": [
  {
   "cell_type": "code",
   "execution_count": 1,
   "metadata": {},
   "outputs": [
    {
     "name": "stdout",
     "output_type": "stream",
     "text": [
      "processing data......\n"
     ]
    },
    {
     "ename": "KeyboardInterrupt",
     "evalue": "",
     "output_type": "error",
     "traceback": [
      "\u001b[0;31m---------------------------------------------------------------------------\u001b[0m",
      "\u001b[0;31mKeyboardInterrupt\u001b[0m                         Traceback (most recent call last)",
      "\u001b[0;32m<ipython-input-1-ea5bcec0435a>\u001b[0m in \u001b[0;36m<module>\u001b[0;34m()\u001b[0m\n\u001b[1;32m     12\u001b[0m     \u001b[0;31m#x = x.decode(\"utf-8\")\u001b[0m\u001b[0;34m\u001b[0m\u001b[0;34m\u001b[0m\u001b[0m\n\u001b[1;32m     13\u001b[0m     \u001b[0mfiltrate\u001b[0m \u001b[0;34m=\u001b[0m \u001b[0mre\u001b[0m\u001b[0;34m.\u001b[0m\u001b[0mcompile\u001b[0m\u001b[0;34m(\u001b[0m\u001b[0;34mu'[^\\u4E00-\\u9FA5]'\u001b[0m\u001b[0;34m)\u001b[0m\u001b[0;31m#非中文\u001b[0m\u001b[0;34m\u001b[0m\u001b[0m\n\u001b[0;32m---> 14\u001b[0;31m     \u001b[0mfiltered_str\u001b[0m \u001b[0;34m=\u001b[0m \u001b[0mfiltrate\u001b[0m\u001b[0;34m.\u001b[0m\u001b[0msub\u001b[0m\u001b[0;34m(\u001b[0m\u001b[0;34mr''\u001b[0m\u001b[0;34m,\u001b[0m \u001b[0mx\u001b[0m\u001b[0;34m)\u001b[0m\u001b[0;31m#replace\u001b[0m\u001b[0;34m\u001b[0m\u001b[0m\n\u001b[0m\u001b[1;32m     15\u001b[0m     \u001b[0mfiltered_str\u001b[0m \u001b[0;34m=\u001b[0m \u001b[0mfiltered_str\u001b[0m\u001b[0;34m.\u001b[0m\u001b[0mencode\u001b[0m\u001b[0;34m(\u001b[0m\u001b[0;34m\"utf-8\"\u001b[0m\u001b[0;34m)\u001b[0m\u001b[0;34m\u001b[0m\u001b[0m\n\u001b[1;32m     16\u001b[0m     \u001b[0mf2\u001b[0m\u001b[0;34m.\u001b[0m\u001b[0mwrite\u001b[0m\u001b[0;34m(\u001b[0m\u001b[0mfiltered_str\u001b[0m\u001b[0;34m)\u001b[0m\u001b[0;34m\u001b[0m\u001b[0m\n",
      "\u001b[0;31mKeyboardInterrupt\u001b[0m: "
     ]
    }
   ],
   "source": [
    "import re\n",
    "\n",
    "print(\"processing data......\")\n",
    "\n",
    "with open('/home/data/liuchang/data/ZhWikiSimplified.txt') as  f1:#打开文件\n",
    "    f11 = f1.readlines()#将打开文件的内容读到内存中，with 在执行完命令后，会关闭文件\n",
    "    \n",
    "f2 = open('/home/data/liuchang/data/WikiResult.txt','wb')#打开一个文件，用于写入，后面的'wb'表示每次写入前格式化文本，如果此文件不存在，则创建一个此文件名的文件\n",
    "\n",
    "for x in f11:\n",
    "    #x = x.encode(\"utf-8\")\n",
    "    #x = x.decode(\"utf-8\")\n",
    "    filtrate = re.compile(u'[^\\u4E00-\\u9FA5]')#非中文\n",
    "    filtered_str = filtrate.sub(r'', x)#replace\n",
    "    filtered_str = filtered_str.encode(\"utf-8\")\n",
    "    f2.write(filtered_str)\n",
    "    f2.write('\\n'.encode(\"utf-8\"))\n",
    "\n",
    "f2.close()    \n",
    "print(\"end!\")\n"
   ]
  },
  {
   "cell_type": "code",
   "execution_count": null,
   "metadata": {},
   "outputs": [],
   "source": [
    "#jieba分词\n",
    "import jieba\n",
    "import jieba.analyse\n",
    "import jieba.posseg as pseg #POS标注接口\n",
    "import codecs,sys\n",
    "\n",
    "with open('/home/data/liuchang/data/WikiResult.txt') as  f1:\n",
    "    f1l = f1.readlines()\n",
    "f2 = open('/home/data/liuchang/data/WikiSeg.txt','wb')\n",
    "print(\"files opened!\")\n",
    "for x in f1l:\n",
    "    seg_list = jieba.cut(x,cut_all=False)\n",
    "    line_seg = ' '.join(seg_list)\n",
    "    f2.write(line_seg.encode(\"utf-8\"))\n",
    "    #f2.write('\\n'.encode(\"utf-8\"))\n",
    "\n",
    "f2.close()"
   ]
  },
  {
   "cell_type": "code",
   "execution_count": 2,
   "metadata": {},
   "outputs": [],
   "source": [
    "#词向量训练\n",
    "import warnings\n",
    "warnings.filterwarnings(action='ignore', category=UserWarning, module='gensim')# 忽略警告\n",
    "\n",
    "import logging\n",
    "import os.path\n",
    "import sys\n",
    "import multiprocessing\n",
    "\n",
    "from gensim.corpora import WikiCorpus\n",
    "from gensim.models import Word2Vec\n",
    "from gensim.models.word2vec import LineSentence\n",
    "\n",
    "# inp为输入语料, outp1 为输出模型, outp2为原始c版本word2vec的vector格式的模型\n",
    "fdir = '/home/data/liuchang/data/'\n",
    "inp = fdir + 'WikiSeg.txt'\n",
    "outp1 = fdir + 'Tinywikizh.model'\n",
    "outp2 = fdir + 'Tinywikizh.vector'\n",
    "\n",
    "# 训练skip-gram模型\n",
    "model = Word2Vec(LineSentence(inp), size=200, window=5, min_count=5,workers=multiprocessing.cpu_count())\n",
    "\n",
    "# 保存模型\n",
    "model.save(outp1)\n",
    "model.wv.save_word2vec_format(outp2, binary=False)\n"
   ]
  },
  {
   "cell_type": "code",
   "execution_count": 3,
   "metadata": {},
   "outputs": [
    {
     "name": "stderr",
     "output_type": "stream",
     "text": [
      "/home/data/liuchang/anaconda3/lib/python3.7/site-packages/ipykernel_launcher.py:10: DeprecationWarning: Call to deprecated `most_similar` (Method will be removed in 4.0.0, use self.wv.most_similar() instead).\n",
      "  # Remove the CWD from sys.path while we load stuff.\n"
     ]
    },
    {
     "name": "stdout",
     "output_type": "stream",
     "text": [
      "和程序员最相近的词有\n",
      "开发人员\n",
      "开发者\n",
      "编译器\n",
      "编程\n",
      "应用程序\n",
      "编程语言\n",
      "软件\n",
      "应用软件\n",
      "汇编语言\n",
      "脚本\n",
      "************************\n",
      "西安电子科技大学 是清华大学 复旦大学 北京大学 西安电子科技大学 西北工业大学之间最不合群的\n",
      "开发人员 0.7921889424324036\n",
      "开发者 0.7781273126602173\n",
      "编译器 0.6850813031196594\n",
      "编程 0.6797733902931213\n",
      "应用程序 0.6732823848724365\n",
      "编程语言 0.6673012375831604\n",
      "软件 0.658401608467102\n",
      "应用软件 0.6450798511505127\n",
      "汇编语言 0.6427026391029358\n",
      "脚本 0.6403300762176514\n"
     ]
    },
    {
     "name": "stderr",
     "output_type": "stream",
     "text": [
      "/home/data/liuchang/anaconda3/lib/python3.7/site-packages/ipykernel_launcher.py:15: DeprecationWarning: Call to deprecated `doesnt_match` (Method will be removed in 4.0.0, use self.wv.doesnt_match() instead).\n",
      "  from ipykernel import kernelapp as app\n"
     ]
    }
   ],
   "source": [
    "import warnings\n",
    "warnings.filterwarnings(action='ignore', category=UserWarning, module='gensim')# 忽略警告\n",
    "import sys  \n",
    "import gensim\n",
    "\n",
    "\n",
    "fdir = '/home/data/liuchang/data/'\n",
    "model = gensim.models.Word2Vec.load(fdir + 'Tinywikizh.model')\n",
    "\n",
    "word = model.most_similar(u\"程序员\")\n",
    "print(\"和程序员最相近的词有\")\n",
    "for t in word:\n",
    "    print(t[0])\n",
    "print(\"************************\")\n",
    "print(model.doesnt_match(u'清华大学 复旦大学 北京大学 西安电子科技大学 西北工业大学'.split()),\"是清华大学 复旦大学 北京大学 西安电子科技大学 西北工业大学之间最不合群的\")\n",
    "for t in word:\n",
    "    print(t[0],t[1])\n",
    "    '''\n",
    "    word = model.most_similar(positive=[u'皇上',u'国王'],negative=[u'皇后'])\n",
    "    for t in word:\n",
    "        print t[0],t[1]\n",
    "    print model.doesnt_match(u'太后 妃子 贵人 贵妃 才人'.split())\n",
    "    print model.similarity(u'书籍',u'书本')\n",
    "    print model.similarity(u'逛街',u'书本')\n",
    "    '''"
   ]
  },
  {
   "cell_type": "code",
   "execution_count": 4,
   "metadata": {},
   "outputs": [
    {
     "name": "stdout",
     "output_type": "stream",
     "text": [
      "亲吻\n",
      "凝视\n",
      "接吻\n",
      "呼唤\n",
      "做爱\n",
      "相拥\n",
      "微笑\n",
      "问候\n",
      "调情\n",
      "亲热\n"
     ]
    },
    {
     "name": "stderr",
     "output_type": "stream",
     "text": [
      "/home/data/liuchang/anaconda3/lib/python3.7/site-packages/ipykernel_launcher.py:2: DeprecationWarning: Call to deprecated `most_similar` (Method will be removed in 4.0.0, use self.wv.most_similar() instead).\n",
      "  \n",
      "/home/data/liuchang/anaconda3/lib/python3.7/site-packages/ipykernel_launcher.py:5: DeprecationWarning: Call to deprecated `__getitem__` (Method will be removed in 4.0.0, use self.wv.__getitem__() instead).\n",
      "  \"\"\"\n"
     ]
    },
    {
     "data": {
      "text/plain": [
       "200"
      ]
     },
     "execution_count": 4,
     "metadata": {},
     "output_type": "execute_result"
    }
   ],
   "source": [
    "#print (model['漫天'])\n",
    "word=model.most_similar('拥抱',topn=10)\n",
    "for t in word:\n",
    "    print(t[0])\n",
    "len(model['西电'])"
   ]
  },
  {
   "cell_type": "code",
   "execution_count": 5,
   "metadata": {},
   "outputs": [
    {
     "ename": "TypeError",
     "evalue": "object of type 'Word2Vec' has no len()",
     "output_type": "error",
     "traceback": [
      "\u001b[0;31m---------------------------------------------------------------------------\u001b[0m",
      "\u001b[0;31mTypeError\u001b[0m                                 Traceback (most recent call last)",
      "\u001b[0;32m<ipython-input-5-bafc21b277ab>\u001b[0m in \u001b[0;36m<module>\u001b[0;34m()\u001b[0m\n\u001b[0;32m----> 1\u001b[0;31m \u001b[0mlen\u001b[0m\u001b[0;34m(\u001b[0m\u001b[0mmodel\u001b[0m\u001b[0;34m)\u001b[0m\u001b[0;34m\u001b[0m\u001b[0m\n\u001b[0m",
      "\u001b[0;31mTypeError\u001b[0m: object of type 'Word2Vec' has no len()"
     ]
    }
   ],
   "source": []
  },
  {
   "cell_type": "code",
   "execution_count": null,
   "metadata": {},
   "outputs": [],
   "source": []
  }
 ],
 "metadata": {
  "kernelspec": {
   "display_name": "Python 3",
   "language": "python",
   "name": "python3"
  }
 },
 "nbformat": 4,
 "nbformat_minor": 2
}
